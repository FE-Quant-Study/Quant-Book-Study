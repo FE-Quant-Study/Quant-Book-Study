{
  "cells": [
    {
      "cell_type": "markdown",
      "metadata": {
        "id": "u0ggquYwX0nW"
      },
      "source": [
        "# Download and store data"
      ]
    },
    {
      "cell_type": "markdown",
      "metadata": {
        "id": "umxnkjNtX0nh"
      },
      "source": [
        "This notebook contains information on downloading the Quandl Wiki stock prices and a few other sources that we use throughout the book."
      ]
    },
    {
      "cell_type": "markdown",
      "metadata": {
        "id": "Jt7mpFuZX0ni"
      },
      "source": [
        "## Imports & Settings"
      ]
    },
    {
      "cell_type": "code",
      "execution_count": 1,
      "metadata": {
        "ExecuteTime": {
          "end_time": "2020-06-18T14:32:07.092623Z",
          "start_time": "2020-06-18T14:32:07.090885Z"
        },
        "id": "43_0TjQ6X0nk"
      },
      "outputs": [],
      "source": [
        "import warnings\n",
        "warnings.filterwarnings('ignore')"
      ]
    },
    {
      "cell_type": "code",
      "execution_count": 2,
      "metadata": {
        "ExecuteTime": {
          "end_time": "2020-06-18T14:32:07.263130Z",
          "start_time": "2020-06-18T14:32:07.259861Z"
        },
        "id": "L4bYmrxOX0np"
      },
      "outputs": [],
      "source": [
        "from pathlib import Path\n",
        "import requests\n",
        "from io import BytesIO\n",
        "from zipfile import ZipFile, BadZipFile\n",
        "\n",
        "import numpy as np\n",
        "import pandas as pd\n",
        "import pandas_datareader.data as web\n",
        "from sklearn.datasets import fetch_openml\n",
        "\n",
        "pd.set_option('display.expand_frame_repr', False)"
      ]
    },
    {
      "cell_type": "markdown",
      "metadata": {
        "id": "PRSECPoGX0nr"
      },
      "source": [
        "## Set Data Store path"
      ]
    },
    {
      "cell_type": "markdown",
      "metadata": {
        "id": "RiUYSf_hX0ns"
      },
      "source": [
        "Modify path if you would like to store the data elsewhere and change the notebooks accordingly"
      ]
    },
    {
      "cell_type": "code",
      "execution_count": 3,
      "metadata": {
        "ExecuteTime": {
          "end_time": "2020-06-19T02:27:54.832609Z",
          "start_time": "2020-06-19T02:27:54.824778Z"
        },
        "id": "y5Dy_dq8X0nt"
      },
      "outputs": [],
      "source": [
        "DATA_STORE = Path('assets.h5')"
      ]
    },
    {
      "cell_type": "markdown",
      "metadata": {
        "id": "BXxVhU6UX0nv"
      },
      "source": [
        "## Quandl Wiki Prices"
      ]
    },
    {
      "cell_type": "markdown",
      "metadata": {
        "id": "fDLnQqjIX0nw"
      },
      "source": [
        "> Quandl has been [acuqired by NASDAQ](https://www.nasdaq.com/about/press-center/nasdaq-acquires-quandl-advance-use-alternative-data) in late 2018. In 2021, NASDAQ [integrated Quandl's data platform](https://data.nasdaq.com/). Free US equity data is still available under a [new URL](https://data.nasdaq.com/databases/WIKIP/documentation), subject to the limitations mentioned below.\n",
        "\n",
        "[NASDAQ](https://data.nasdaq.com/) makes available a [dataset](/home/stefan/drive/machine-learning-for-trading/data/create_datasets.ipynb) with stock prices, dividends and splits for 3000 US publicly-traded companies. Prior to its acquisition (April 11, 2018), Quandl announced the end of community support (updates). The historical data are useful as a first step towards demonstrating the application of the machine learning solutions, just ensure you design and test your own algorithms using current, professional-grade data."
      ]
    },
    {
      "cell_type": "markdown",
      "metadata": {
        "id": "jqEyrC1AX0nx"
      },
      "source": [
        "1. Follow the instructions to create a free [NASDAQ account](https://data.nasdaq.com/sign-up)\n",
        "2. [Download](https://data.nasdaq.com/tables/WIKIP/WIKI-PRICES/export) the entire WIKI/PRICES data\n",
        "3. Extract the .zip file,\n",
        "4. Move to this directory and rename to wiki_prices.csv\n",
        "5. Run the below code to store in fast HDF format (see [Chapter 02 on Market & Fundamental Data](../02_market_and_fundamental_data) for details)."
      ]
    },
    {
      "cell_type": "code",
      "source": [
        "from google.colab import drive\n",
        "drive.mount('/content/drive') # 구글 드라이브를 사용하는 경우"
      ],
      "metadata": {
        "colab": {
          "base_uri": "https://localhost:8080/"
        },
        "id": "FNtIkzurcAkQ",
        "outputId": "3c87d52b-5fe3-4c51-98f7-0924fe49b0ee"
      },
      "execution_count": 5,
      "outputs": [
        {
          "output_type": "stream",
          "name": "stdout",
          "text": [
            "Mounted at /content/drive\n"
          ]
        }
      ]
    },
    {
      "cell_type": "code",
      "source": [
        "!unzip /content/drive/MyDrive/스터디/금융공학_퀀트_스터디/data/WIKI_PRICES.zip"
      ],
      "metadata": {
        "colab": {
          "base_uri": "https://localhost:8080/"
        },
        "id": "4MmXtFeYcZAo",
        "outputId": "99539722-a813-4c94-a3e6-893d92edff66"
      },
      "execution_count": 6,
      "outputs": [
        {
          "output_type": "stream",
          "name": "stdout",
          "text": [
            "Archive:  /content/drive/MyDrive/스터디/금융공학_퀀트_스터디/data/WIKI_PRICES.zip\n",
            "  inflating: WIKI_PRICES_212b326a081eacca455e13140d7bb9db.csv  \n"
          ]
        }
      ]
    },
    {
      "cell_type": "code",
      "source": [
        "!mv WIKI_PRICES_212b326a081eacca455e13140d7bb9db.csv wiki_prices.csv"
      ],
      "metadata": {
        "id": "l-giIT4RcpEM"
      },
      "execution_count": 7,
      "outputs": []
    },
    {
      "cell_type": "code",
      "execution_count": 8,
      "metadata": {
        "ExecuteTime": {
          "end_time": "2020-06-16T21:38:46.759327Z",
          "start_time": "2020-06-16T21:37:48.398856Z"
        },
        "colab": {
          "base_uri": "https://localhost:8080/"
        },
        "id": "03Rul-nFX0ny",
        "outputId": "51a090ae-2621-4b20-d8e9-5898e1c2f886"
      },
      "outputs": [
        {
          "output_type": "stream",
          "name": "stdout",
          "text": [
            "<class 'pandas.core.frame.DataFrame'>\n",
            "MultiIndex: 15389314 entries, (Timestamp('1962-01-02 00:00:00'), 'ARNC') to (Timestamp('2018-03-27 00:00:00'), 'ZUMZ')\n",
            "Data columns (total 12 columns):\n",
            " #   Column       Non-Null Count     Dtype  \n",
            "---  ------       --------------     -----  \n",
            " 0   open         15388776 non-null  float64\n",
            " 1   high         15389259 non-null  float64\n",
            " 2   low          15389259 non-null  float64\n",
            " 3   close        15389313 non-null  float64\n",
            " 4   volume       15389314 non-null  float64\n",
            " 5   ex-dividend  15389314 non-null  float64\n",
            " 6   split_ratio  15389313 non-null  float64\n",
            " 7   adj_open     15388776 non-null  float64\n",
            " 8   adj_high     15389259 non-null  float64\n",
            " 9   adj_low      15389259 non-null  float64\n",
            " 10  adj_close    15389313 non-null  float64\n",
            " 11  adj_volume   15389314 non-null  float64\n",
            "dtypes: float64(12)\n",
            "memory usage: 1.4+ GB\n",
            "None\n"
          ]
        }
      ],
      "source": [
        "df = (pd.read_csv('wiki_prices.csv',\n",
        "                 parse_dates=['date'],\n",
        "                 index_col=['date', 'ticker'],\n",
        "                 infer_datetime_format=True)\n",
        "     .sort_index())\n",
        "\n",
        "print(df.info(null_counts=True))\n",
        "with pd.HDFStore(DATA_STORE) as store:\n",
        "    store.put('quandl/wiki/prices', df)"
      ]
    },
    {
      "cell_type": "markdown",
      "metadata": {
        "id": "U6YT0mVhX0n0"
      },
      "source": [
        "### Wiki Prices Metadata"
      ]
    },
    {
      "cell_type": "markdown",
      "metadata": {
        "id": "5HxWQnUrX0n1"
      },
      "source": [
        "> QUANDL used to make some stock meta data be available on its website; I'm making the file available to allow readers to run some examples in the book:\n",
        "\n",
        "Instead of using the QUANDL API, load the file `wiki_stocks.csv` as described and store in HDF5 format.\n",
        "\n",
        "https://data.nasdaq.com/tables/WIKIP/WIKI-STOCKS/export"
      ]
    },
    {
      "cell_type": "code",
      "source": [
        "!unzip /content/drive/MyDrive/스터디/금융공학_퀀트_스터디/data/WIKI_STOCKS.zip"
      ],
      "metadata": {
        "colab": {
          "base_uri": "https://localhost:8080/"
        },
        "id": "BDt-xOfRefcF",
        "outputId": "87acf77d-3e46-49c1-876c-2ce30167e2f3"
      },
      "execution_count": 10,
      "outputs": [
        {
          "output_type": "stream",
          "name": "stdout",
          "text": [
            "Archive:  /content/drive/MyDrive/스터디/금융공학_퀀트_스터디/data/WIKI_STOCKS.zip\n",
            "  inflating: WIKI_STOCKS_465172b41a47a76f80b3215d06f71a39.csv  \n"
          ]
        }
      ]
    },
    {
      "cell_type": "code",
      "source": [
        "!mv WIKI_STOCKS_465172b41a47a76f80b3215d06f71a39.csv wiki_stocks.csv"
      ],
      "metadata": {
        "id": "87GDVCjMeiv5"
      },
      "execution_count": 11,
      "outputs": []
    },
    {
      "cell_type": "code",
      "execution_count": 12,
      "metadata": {
        "colab": {
          "base_uri": "https://localhost:8080/"
        },
        "id": "EAg4Lu7XX0n2",
        "outputId": "af9d536e-7466-4af4-9572-7f1758b38bdf"
      },
      "outputs": [
        {
          "output_type": "stream",
          "name": "stdout",
          "text": [
            "<class 'pandas.core.frame.DataFrame'>\n",
            "RangeIndex: 3181 entries, 0 to 3180\n",
            "Data columns (total 2 columns):\n",
            " #   Column  Non-Null Count  Dtype \n",
            "---  ------  --------------  ----- \n",
            " 0   ticker  3181 non-null   object\n",
            " 1   name    3181 non-null   object\n",
            "dtypes: object(2)\n",
            "memory usage: 49.8+ KB\n",
            "None\n"
          ]
        }
      ],
      "source": [
        "df = pd.read_csv('wiki_stocks.csv')\n",
        "# no longer needed\n",
        "# df = pd.concat([df.loc[:, 'code'].str.strip(),\n",
        "#                 df.loc[:, 'name'].str.split('(', expand=True)[0].str.strip().to_frame('name')], axis=1)\n",
        "\n",
        "print(df.info(null_counts=True))\n",
        "with pd.HDFStore(DATA_STORE) as store:\n",
        "    store.put('quandl/wiki/stocks', df)"
      ]
    },
    {
      "cell_type": "markdown",
      "metadata": {
        "id": "NWcwA0VAX0n3"
      },
      "source": [
        "## S&P 500 Prices"
      ]
    },
    {
      "cell_type": "markdown",
      "metadata": {
        "id": "FemXnmxiX0n4"
      },
      "source": [
        "The following code downloads historical S&P 500 prices from FRED (only last 10 years of daily data is freely available)"
      ]
    },
    {
      "cell_type": "code",
      "execution_count": 13,
      "metadata": {
        "colab": {
          "base_uri": "https://localhost:8080/"
        },
        "id": "xN3NfnaVX0n4",
        "outputId": "8187f83a-5efa-4c69-9aa9-7d655d613860"
      },
      "outputs": [
        {
          "output_type": "stream",
          "name": "stdout",
          "text": [
            "<class 'pandas.core.frame.DataFrame'>\n",
            "DatetimeIndex: 2610 entries, 2013-06-17 to 2023-06-16\n",
            "Data columns (total 1 columns):\n",
            " #   Column  Non-Null Count  Dtype  \n",
            "---  ------  --------------  -----  \n",
            " 0   close   2519 non-null   float64\n",
            "dtypes: float64(1)\n",
            "memory usage: 40.8 KB\n",
            "None\n"
          ]
        }
      ],
      "source": [
        "df = web.DataReader(name='SP500', data_source='fred', start=2009).squeeze().to_frame('close')\n",
        "print(df.info())\n",
        "with pd.HDFStore(DATA_STORE) as store:\n",
        "    store.put('sp500/fred', df)"
      ]
    },
    {
      "cell_type": "markdown",
      "metadata": {
        "id": "kgvV9HrAX0n5"
      },
      "source": [
        "Alternatively, download S&P500 data from [stooq.com](https://stooq.com/q/?s=%5Espx&c=1d&t=l&a=lg&b=0); at the time of writing the data was available since 1789. You can switch from Polish to English on the lower right-hand side.\n",
        "- \tHistorical data 탭에서 csv 파일로 다운로드 가능\n",
        "\n",
        "We store the data from 1950-2020:"
      ]
    },
    {
      "cell_type": "code",
      "execution_count": 16,
      "metadata": {
        "ExecuteTime": {
          "end_time": "2020-06-16T21:42:08.524471Z",
          "start_time": "2020-06-16T21:42:08.415664Z"
        },
        "colab": {
          "base_uri": "https://localhost:8080/"
        },
        "id": "TqzRaIENX0n6",
        "outputId": "725615db-3bbe-4bd0-ed1a-de15f2aa6506"
      },
      "outputs": [
        {
          "output_type": "stream",
          "name": "stdout",
          "text": [
            "<class 'pandas.core.frame.DataFrame'>\n",
            "DatetimeIndex: 17700 entries, 1950-01-03 to 2019-12-31\n",
            "Data columns (total 5 columns):\n",
            " #   Column  Non-Null Count  Dtype  \n",
            "---  ------  --------------  -----  \n",
            " 0   open    17700 non-null  float64\n",
            " 1   high    17700 non-null  float64\n",
            " 2   low     17700 non-null  float64\n",
            " 3   close   17700 non-null  float64\n",
            " 4   volume  17700 non-null  float64\n",
            "dtypes: float64(5)\n",
            "memory usage: 829.7 KB\n",
            "None\n"
          ]
        }
      ],
      "source": [
        "sp500_stooq = (pd.read_csv('/content/drive/MyDrive/스터디/금융공학_퀀트_스터디/data/^spx_d.csv', index_col=0,\n",
        "                     parse_dates=True).loc['1950':'2019'].rename(columns=str.lower))\n",
        "print(sp500_stooq.info())"
      ]
    },
    {
      "cell_type": "code",
      "execution_count": 17,
      "metadata": {
        "ExecuteTime": {
          "end_time": "2020-06-16T21:42:09.567451Z",
          "start_time": "2020-06-16T21:42:09.556832Z"
        },
        "id": "me48TzBoX0n7"
      },
      "outputs": [],
      "source": [
        "with pd.HDFStore(DATA_STORE) as store:\n",
        "    store.put('sp500/stooq', sp500_stooq)"
      ]
    },
    {
      "cell_type": "markdown",
      "metadata": {
        "id": "rXcjAIr5X0n8"
      },
      "source": [
        "### S&P 500 Constituents"
      ]
    },
    {
      "cell_type": "markdown",
      "metadata": {
        "id": "nJnt8gh-X0n9"
      },
      "source": [
        "The following code downloads the current S&P 500 constituents from [Wikipedia](https://en.wikipedia.org/wiki/List_of_S%26P_500_companies)."
      ]
    },
    {
      "cell_type": "code",
      "execution_count": 18,
      "metadata": {
        "ExecuteTime": {
          "end_time": "2020-06-17T10:50:19.998830Z",
          "start_time": "2020-06-17T10:50:18.784120Z"
        },
        "id": "nMX9jQlMX0n_"
      },
      "outputs": [],
      "source": [
        "url = 'https://en.wikipedia.org/wiki/List_of_S%26P_500_companies'\n",
        "df = pd.read_html(url, header=0)[0]"
      ]
    },
    {
      "cell_type": "code",
      "execution_count": 19,
      "metadata": {
        "ExecuteTime": {
          "end_time": "2020-06-17T10:50:21.745331Z",
          "start_time": "2020-06-17T10:50:21.724637Z"
        },
        "colab": {
          "base_uri": "https://localhost:8080/",
          "height": 354
        },
        "id": "BNYxy_5hX0oA",
        "outputId": "8e140b1c-e09d-4001-bf11-8485c7de3225"
      },
      "outputs": [
        {
          "output_type": "execute_result",
          "data": {
            "text/plain": [
              "  Symbol     Security             GICS Sector               GICS Sub-Industry    Headquarters Location  Date added      CIK      Founded\n",
              "0    MMM           3M             Industrials        Industrial Conglomerates    Saint Paul, Minnesota  1957-03-04    66740         1902\n",
              "1    AOS  A. O. Smith             Industrials               Building Products     Milwaukee, Wisconsin  2017-07-26    91142         1916\n",
              "2    ABT       Abbott             Health Care           Health Care Equipment  North Chicago, Illinois  1957-03-04     1800         1888\n",
              "3   ABBV       AbbVie             Health Care                 Pharmaceuticals  North Chicago, Illinois  2012-12-31  1551152  2013 (1888)\n",
              "4    ACN    Accenture  Information Technology  IT Consulting & Other Services          Dublin, Ireland  2011-07-06  1467373         1989"
            ],
            "text/html": [
              "\n",
              "  <div id=\"df-0fa4f47d-23e4-4154-b149-77012fe5e0dc\">\n",
              "    <div class=\"colab-df-container\">\n",
              "      <div>\n",
              "<style scoped>\n",
              "    .dataframe tbody tr th:only-of-type {\n",
              "        vertical-align: middle;\n",
              "    }\n",
              "\n",
              "    .dataframe tbody tr th {\n",
              "        vertical-align: top;\n",
              "    }\n",
              "\n",
              "    .dataframe thead th {\n",
              "        text-align: right;\n",
              "    }\n",
              "</style>\n",
              "<table border=\"1\" class=\"dataframe\">\n",
              "  <thead>\n",
              "    <tr style=\"text-align: right;\">\n",
              "      <th></th>\n",
              "      <th>Symbol</th>\n",
              "      <th>Security</th>\n",
              "      <th>GICS Sector</th>\n",
              "      <th>GICS Sub-Industry</th>\n",
              "      <th>Headquarters Location</th>\n",
              "      <th>Date added</th>\n",
              "      <th>CIK</th>\n",
              "      <th>Founded</th>\n",
              "    </tr>\n",
              "  </thead>\n",
              "  <tbody>\n",
              "    <tr>\n",
              "      <th>0</th>\n",
              "      <td>MMM</td>\n",
              "      <td>3M</td>\n",
              "      <td>Industrials</td>\n",
              "      <td>Industrial Conglomerates</td>\n",
              "      <td>Saint Paul, Minnesota</td>\n",
              "      <td>1957-03-04</td>\n",
              "      <td>66740</td>\n",
              "      <td>1902</td>\n",
              "    </tr>\n",
              "    <tr>\n",
              "      <th>1</th>\n",
              "      <td>AOS</td>\n",
              "      <td>A. O. Smith</td>\n",
              "      <td>Industrials</td>\n",
              "      <td>Building Products</td>\n",
              "      <td>Milwaukee, Wisconsin</td>\n",
              "      <td>2017-07-26</td>\n",
              "      <td>91142</td>\n",
              "      <td>1916</td>\n",
              "    </tr>\n",
              "    <tr>\n",
              "      <th>2</th>\n",
              "      <td>ABT</td>\n",
              "      <td>Abbott</td>\n",
              "      <td>Health Care</td>\n",
              "      <td>Health Care Equipment</td>\n",
              "      <td>North Chicago, Illinois</td>\n",
              "      <td>1957-03-04</td>\n",
              "      <td>1800</td>\n",
              "      <td>1888</td>\n",
              "    </tr>\n",
              "    <tr>\n",
              "      <th>3</th>\n",
              "      <td>ABBV</td>\n",
              "      <td>AbbVie</td>\n",
              "      <td>Health Care</td>\n",
              "      <td>Pharmaceuticals</td>\n",
              "      <td>North Chicago, Illinois</td>\n",
              "      <td>2012-12-31</td>\n",
              "      <td>1551152</td>\n",
              "      <td>2013 (1888)</td>\n",
              "    </tr>\n",
              "    <tr>\n",
              "      <th>4</th>\n",
              "      <td>ACN</td>\n",
              "      <td>Accenture</td>\n",
              "      <td>Information Technology</td>\n",
              "      <td>IT Consulting &amp; Other Services</td>\n",
              "      <td>Dublin, Ireland</td>\n",
              "      <td>2011-07-06</td>\n",
              "      <td>1467373</td>\n",
              "      <td>1989</td>\n",
              "    </tr>\n",
              "  </tbody>\n",
              "</table>\n",
              "</div>\n",
              "      <button class=\"colab-df-convert\" onclick=\"convertToInteractive('df-0fa4f47d-23e4-4154-b149-77012fe5e0dc')\"\n",
              "              title=\"Convert this dataframe to an interactive table.\"\n",
              "              style=\"display:none;\">\n",
              "        \n",
              "  <svg xmlns=\"http://www.w3.org/2000/svg\" height=\"24px\"viewBox=\"0 0 24 24\"\n",
              "       width=\"24px\">\n",
              "    <path d=\"M0 0h24v24H0V0z\" fill=\"none\"/>\n",
              "    <path d=\"M18.56 5.44l.94 2.06.94-2.06 2.06-.94-2.06-.94-.94-2.06-.94 2.06-2.06.94zm-11 1L8.5 8.5l.94-2.06 2.06-.94-2.06-.94L8.5 2.5l-.94 2.06-2.06.94zm10 10l.94 2.06.94-2.06 2.06-.94-2.06-.94-.94-2.06-.94 2.06-2.06.94z\"/><path d=\"M17.41 7.96l-1.37-1.37c-.4-.4-.92-.59-1.43-.59-.52 0-1.04.2-1.43.59L10.3 9.45l-7.72 7.72c-.78.78-.78 2.05 0 2.83L4 21.41c.39.39.9.59 1.41.59.51 0 1.02-.2 1.41-.59l7.78-7.78 2.81-2.81c.8-.78.8-2.07 0-2.86zM5.41 20L4 18.59l7.72-7.72 1.47 1.35L5.41 20z\"/>\n",
              "  </svg>\n",
              "      </button>\n",
              "      \n",
              "  <style>\n",
              "    .colab-df-container {\n",
              "      display:flex;\n",
              "      flex-wrap:wrap;\n",
              "      gap: 12px;\n",
              "    }\n",
              "\n",
              "    .colab-df-convert {\n",
              "      background-color: #E8F0FE;\n",
              "      border: none;\n",
              "      border-radius: 50%;\n",
              "      cursor: pointer;\n",
              "      display: none;\n",
              "      fill: #1967D2;\n",
              "      height: 32px;\n",
              "      padding: 0 0 0 0;\n",
              "      width: 32px;\n",
              "    }\n",
              "\n",
              "    .colab-df-convert:hover {\n",
              "      background-color: #E2EBFA;\n",
              "      box-shadow: 0px 1px 2px rgba(60, 64, 67, 0.3), 0px 1px 3px 1px rgba(60, 64, 67, 0.15);\n",
              "      fill: #174EA6;\n",
              "    }\n",
              "\n",
              "    [theme=dark] .colab-df-convert {\n",
              "      background-color: #3B4455;\n",
              "      fill: #D2E3FC;\n",
              "    }\n",
              "\n",
              "    [theme=dark] .colab-df-convert:hover {\n",
              "      background-color: #434B5C;\n",
              "      box-shadow: 0px 1px 3px 1px rgba(0, 0, 0, 0.15);\n",
              "      filter: drop-shadow(0px 1px 2px rgba(0, 0, 0, 0.3));\n",
              "      fill: #FFFFFF;\n",
              "    }\n",
              "  </style>\n",
              "\n",
              "      <script>\n",
              "        const buttonEl =\n",
              "          document.querySelector('#df-0fa4f47d-23e4-4154-b149-77012fe5e0dc button.colab-df-convert');\n",
              "        buttonEl.style.display =\n",
              "          google.colab.kernel.accessAllowed ? 'block' : 'none';\n",
              "\n",
              "        async function convertToInteractive(key) {\n",
              "          const element = document.querySelector('#df-0fa4f47d-23e4-4154-b149-77012fe5e0dc');\n",
              "          const dataTable =\n",
              "            await google.colab.kernel.invokeFunction('convertToInteractive',\n",
              "                                                     [key], {});\n",
              "          if (!dataTable) return;\n",
              "\n",
              "          const docLinkHtml = 'Like what you see? Visit the ' +\n",
              "            '<a target=\"_blank\" href=https://colab.research.google.com/notebooks/data_table.ipynb>data table notebook</a>'\n",
              "            + ' to learn more about interactive tables.';\n",
              "          element.innerHTML = '';\n",
              "          dataTable['output_type'] = 'display_data';\n",
              "          await google.colab.output.renderOutput(dataTable, element);\n",
              "          const docLink = document.createElement('div');\n",
              "          docLink.innerHTML = docLinkHtml;\n",
              "          element.appendChild(docLink);\n",
              "        }\n",
              "      </script>\n",
              "    </div>\n",
              "  </div>\n",
              "  "
            ]
          },
          "metadata": {},
          "execution_count": 19
        }
      ],
      "source": [
        "df.head()"
      ]
    },
    {
      "cell_type": "code",
      "execution_count": 22,
      "metadata": {
        "ExecuteTime": {
          "end_time": "2020-06-17T10:51:06.628859Z",
          "start_time": "2020-06-17T10:51:06.621125Z"
        },
        "id": "F1L0YWuKX0oB"
      },
      "outputs": [],
      "source": [
        "df.columns = ['ticker', 'name', 'gics_sector', 'gics_sub_industry',\n",
        "              'location', 'first_added', 'cik', 'founded']\n",
        "df = df.set_index('ticker')\n",
        "# sec_filings이 사라짐"
      ]
    },
    {
      "cell_type": "code",
      "execution_count": 23,
      "metadata": {
        "ExecuteTime": {
          "end_time": "2020-06-17T10:51:14.523579Z",
          "start_time": "2020-06-17T10:51:14.515004Z"
        },
        "colab": {
          "base_uri": "https://localhost:8080/"
        },
        "id": "cUdpPHEaX0oC",
        "outputId": "28173cac-64b5-4955-b111-2542a4801adf"
      },
      "outputs": [
        {
          "output_type": "stream",
          "name": "stdout",
          "text": [
            "<class 'pandas.core.frame.DataFrame'>\n",
            "Index: 503 entries, MMM to ZTS\n",
            "Data columns (total 7 columns):\n",
            " #   Column             Non-Null Count  Dtype \n",
            "---  ------             --------------  ----- \n",
            " 0   name               503 non-null    object\n",
            " 1   gics_sector        503 non-null    object\n",
            " 2   gics_sub_industry  503 non-null    object\n",
            " 3   location           503 non-null    object\n",
            " 4   first_added        493 non-null    object\n",
            " 5   cik                503 non-null    int64 \n",
            " 6   founded            503 non-null    object\n",
            "dtypes: int64(1), object(6)\n",
            "memory usage: 31.4+ KB\n",
            "None\n"
          ]
        }
      ],
      "source": [
        "print(df.info())"
      ]
    },
    {
      "cell_type": "code",
      "execution_count": 24,
      "metadata": {
        "ExecuteTime": {
          "end_time": "2020-06-17T10:51:17.814771Z",
          "start_time": "2020-06-17T10:51:17.788608Z"
        },
        "id": "kZTCabyXX0oC"
      },
      "outputs": [],
      "source": [
        "with pd.HDFStore(DATA_STORE) as store:\n",
        "    store.put('sp500/stocks', df)"
      ]
    },
    {
      "cell_type": "markdown",
      "metadata": {
        "id": "0MTY6ZqcX0oD"
      },
      "source": [
        "## Metadata on US-traded companies"
      ]
    },
    {
      "cell_type": "markdown",
      "metadata": {
        "id": "8s5hixYiX0oD"
      },
      "source": [
        "The following downloads several attributes for [companies](https://www.nasdaq.com/screening/companies-by-name.aspx) traded on NASDAQ, AMEX and NYSE\n",
        "\n",
        "> Update: unfortunately, NASDAQ has disabled automatic downloads. However, you can still access and manually download the files at the below URL when you fill in the exchange names. So for AMEX, URL becomes `https://www.nasdaq.com/market-activity/stocks/screener?exchange=AMEX&letter=0&render=download`.\n",
        ">\n",
        "\n",
        "- 직접 다운로드함"
      ]
    },
    {
      "cell_type": "code",
      "execution_count": 31,
      "metadata": {
        "colab": {
          "base_uri": "https://localhost:8080/"
        },
        "id": "DmJJTD_oX0oE",
        "outputId": "e34365fc-3b6d-4749-af0c-753d08ebee05"
      },
      "outputs": [
        {
          "output_type": "stream",
          "name": "stdout",
          "text": [
            "<class 'pandas.core.frame.DataFrame'>\n",
            "Index: 7672 entries, AACG to ZWS\n",
            "Data columns (total 10 columns):\n",
            " #   Column      Non-Null Count  Dtype  \n",
            "---  ------      --------------  -----  \n",
            " 0   name        7672 non-null   object \n",
            " 1   last sale   7672 non-null   object \n",
            " 2   net change  7672 non-null   float64\n",
            " 3   % change    7671 non-null   object \n",
            " 4   market cap  7232 non-null   float64\n",
            " 5   country     6960 non-null   object \n",
            " 6   ipo year    4484 non-null   float64\n",
            " 7   volume      7672 non-null   int64  \n",
            " 8   sector      7036 non-null   object \n",
            " 9   industry    7036 non-null   object \n",
            "dtypes: float64(3), int64(1), object(6)\n",
            "memory usage: 659.3+ KB\n",
            "None\n"
          ]
        }
      ],
      "source": [
        "# no longer works!\n",
        "# url = 'https://old.nasdaq.com/screening/companies-by-name.aspx?letter=0&exchange={}&render=download'\n",
        "url = '/content/drive/MyDrive/스터디/금융공학_퀀트_스터디/data/nasdaq_screener_'\n",
        "exchanges = ['NASDAQ', 'AMEX', 'NYSE']\n",
        "df = pd.concat([pd.read_csv(url+ex+'.csv') for ex in exchanges]).dropna(how='all', axis=1)\n",
        "df = df.rename(columns=str.lower).set_index('symbol') # .drop('summary quote', axis=1)\n",
        "df = df[~df.index.duplicated()]\n",
        "print(df.info())"
      ]
    },
    {
      "cell_type": "code",
      "execution_count": 32,
      "metadata": {
        "colab": {
          "base_uri": "https://localhost:8080/",
          "height": 648
        },
        "id": "ovUxOfGDX0oF",
        "outputId": "a3a65fe7-6b14-4a8a-acb9-0df7826f344b"
      },
      "outputs": [
        {
          "output_type": "execute_result",
          "data": {
            "text/plain": [
              "                                                    name last sale  net change % change   market cap        country  ipo year  volume                  sector                                    industry\n",
              "symbol                                                                                                                                                                                                   \n",
              "AACG    ATA Creativity Global American Depositary Shares     $1.41      0.0300   2.174%   44587260.0          China    2008.0    7494  Consumer Discretionary                        Educational Services\n",
              "AACI             Armada Acquisition Corp. I Common Stock    $10.20      0.0000    0.00%          0.0  United States    2021.0      10                 Finance                                Blank Checks\n",
              "AACIU                    Armada Acquisition Corp. I Unit  $10.2353      0.0000    0.00%          0.0  United States    2021.0       5                 Finance                                Blank Checks\n",
              "AACIW                 Armada Acquisition Corp. I Warrant   $0.0799     -0.0001  -0.125%          0.0  United States    2021.0      40                 Finance                                Blank Checks\n",
              "AADI                   Aadi Bioscience Inc. Common Stock     $8.13     -0.0700  -0.854%  198672729.0  United States       NaN  257653             Health Care  Biotechnology: Pharmaceutical Preparations"
            ],
            "text/html": [
              "\n",
              "  <div id=\"df-b92d369e-3a58-478b-82cb-427e1b74204f\">\n",
              "    <div class=\"colab-df-container\">\n",
              "      <div>\n",
              "<style scoped>\n",
              "    .dataframe tbody tr th:only-of-type {\n",
              "        vertical-align: middle;\n",
              "    }\n",
              "\n",
              "    .dataframe tbody tr th {\n",
              "        vertical-align: top;\n",
              "    }\n",
              "\n",
              "    .dataframe thead th {\n",
              "        text-align: right;\n",
              "    }\n",
              "</style>\n",
              "<table border=\"1\" class=\"dataframe\">\n",
              "  <thead>\n",
              "    <tr style=\"text-align: right;\">\n",
              "      <th></th>\n",
              "      <th>name</th>\n",
              "      <th>last sale</th>\n",
              "      <th>net change</th>\n",
              "      <th>% change</th>\n",
              "      <th>market cap</th>\n",
              "      <th>country</th>\n",
              "      <th>ipo year</th>\n",
              "      <th>volume</th>\n",
              "      <th>sector</th>\n",
              "      <th>industry</th>\n",
              "    </tr>\n",
              "    <tr>\n",
              "      <th>symbol</th>\n",
              "      <th></th>\n",
              "      <th></th>\n",
              "      <th></th>\n",
              "      <th></th>\n",
              "      <th></th>\n",
              "      <th></th>\n",
              "      <th></th>\n",
              "      <th></th>\n",
              "      <th></th>\n",
              "      <th></th>\n",
              "    </tr>\n",
              "  </thead>\n",
              "  <tbody>\n",
              "    <tr>\n",
              "      <th>AACG</th>\n",
              "      <td>ATA Creativity Global American Depositary Shares</td>\n",
              "      <td>$1.41</td>\n",
              "      <td>0.0300</td>\n",
              "      <td>2.174%</td>\n",
              "      <td>44587260.0</td>\n",
              "      <td>China</td>\n",
              "      <td>2008.0</td>\n",
              "      <td>7494</td>\n",
              "      <td>Consumer Discretionary</td>\n",
              "      <td>Educational Services</td>\n",
              "    </tr>\n",
              "    <tr>\n",
              "      <th>AACI</th>\n",
              "      <td>Armada Acquisition Corp. I Common Stock</td>\n",
              "      <td>$10.20</td>\n",
              "      <td>0.0000</td>\n",
              "      <td>0.00%</td>\n",
              "      <td>0.0</td>\n",
              "      <td>United States</td>\n",
              "      <td>2021.0</td>\n",
              "      <td>10</td>\n",
              "      <td>Finance</td>\n",
              "      <td>Blank Checks</td>\n",
              "    </tr>\n",
              "    <tr>\n",
              "      <th>AACIU</th>\n",
              "      <td>Armada Acquisition Corp. I Unit</td>\n",
              "      <td>$10.2353</td>\n",
              "      <td>0.0000</td>\n",
              "      <td>0.00%</td>\n",
              "      <td>0.0</td>\n",
              "      <td>United States</td>\n",
              "      <td>2021.0</td>\n",
              "      <td>5</td>\n",
              "      <td>Finance</td>\n",
              "      <td>Blank Checks</td>\n",
              "    </tr>\n",
              "    <tr>\n",
              "      <th>AACIW</th>\n",
              "      <td>Armada Acquisition Corp. I Warrant</td>\n",
              "      <td>$0.0799</td>\n",
              "      <td>-0.0001</td>\n",
              "      <td>-0.125%</td>\n",
              "      <td>0.0</td>\n",
              "      <td>United States</td>\n",
              "      <td>2021.0</td>\n",
              "      <td>40</td>\n",
              "      <td>Finance</td>\n",
              "      <td>Blank Checks</td>\n",
              "    </tr>\n",
              "    <tr>\n",
              "      <th>AADI</th>\n",
              "      <td>Aadi Bioscience Inc. Common Stock</td>\n",
              "      <td>$8.13</td>\n",
              "      <td>-0.0700</td>\n",
              "      <td>-0.854%</td>\n",
              "      <td>198672729.0</td>\n",
              "      <td>United States</td>\n",
              "      <td>NaN</td>\n",
              "      <td>257653</td>\n",
              "      <td>Health Care</td>\n",
              "      <td>Biotechnology: Pharmaceutical Preparations</td>\n",
              "    </tr>\n",
              "  </tbody>\n",
              "</table>\n",
              "</div>\n",
              "      <button class=\"colab-df-convert\" onclick=\"convertToInteractive('df-b92d369e-3a58-478b-82cb-427e1b74204f')\"\n",
              "              title=\"Convert this dataframe to an interactive table.\"\n",
              "              style=\"display:none;\">\n",
              "        \n",
              "  <svg xmlns=\"http://www.w3.org/2000/svg\" height=\"24px\"viewBox=\"0 0 24 24\"\n",
              "       width=\"24px\">\n",
              "    <path d=\"M0 0h24v24H0V0z\" fill=\"none\"/>\n",
              "    <path d=\"M18.56 5.44l.94 2.06.94-2.06 2.06-.94-2.06-.94-.94-2.06-.94 2.06-2.06.94zm-11 1L8.5 8.5l.94-2.06 2.06-.94-2.06-.94L8.5 2.5l-.94 2.06-2.06.94zm10 10l.94 2.06.94-2.06 2.06-.94-2.06-.94-.94-2.06-.94 2.06-2.06.94z\"/><path d=\"M17.41 7.96l-1.37-1.37c-.4-.4-.92-.59-1.43-.59-.52 0-1.04.2-1.43.59L10.3 9.45l-7.72 7.72c-.78.78-.78 2.05 0 2.83L4 21.41c.39.39.9.59 1.41.59.51 0 1.02-.2 1.41-.59l7.78-7.78 2.81-2.81c.8-.78.8-2.07 0-2.86zM5.41 20L4 18.59l7.72-7.72 1.47 1.35L5.41 20z\"/>\n",
              "  </svg>\n",
              "      </button>\n",
              "      \n",
              "  <style>\n",
              "    .colab-df-container {\n",
              "      display:flex;\n",
              "      flex-wrap:wrap;\n",
              "      gap: 12px;\n",
              "    }\n",
              "\n",
              "    .colab-df-convert {\n",
              "      background-color: #E8F0FE;\n",
              "      border: none;\n",
              "      border-radius: 50%;\n",
              "      cursor: pointer;\n",
              "      display: none;\n",
              "      fill: #1967D2;\n",
              "      height: 32px;\n",
              "      padding: 0 0 0 0;\n",
              "      width: 32px;\n",
              "    }\n",
              "\n",
              "    .colab-df-convert:hover {\n",
              "      background-color: #E2EBFA;\n",
              "      box-shadow: 0px 1px 2px rgba(60, 64, 67, 0.3), 0px 1px 3px 1px rgba(60, 64, 67, 0.15);\n",
              "      fill: #174EA6;\n",
              "    }\n",
              "\n",
              "    [theme=dark] .colab-df-convert {\n",
              "      background-color: #3B4455;\n",
              "      fill: #D2E3FC;\n",
              "    }\n",
              "\n",
              "    [theme=dark] .colab-df-convert:hover {\n",
              "      background-color: #434B5C;\n",
              "      box-shadow: 0px 1px 3px 1px rgba(0, 0, 0, 0.15);\n",
              "      filter: drop-shadow(0px 1px 2px rgba(0, 0, 0, 0.3));\n",
              "      fill: #FFFFFF;\n",
              "    }\n",
              "  </style>\n",
              "\n",
              "      <script>\n",
              "        const buttonEl =\n",
              "          document.querySelector('#df-b92d369e-3a58-478b-82cb-427e1b74204f button.colab-df-convert');\n",
              "        buttonEl.style.display =\n",
              "          google.colab.kernel.accessAllowed ? 'block' : 'none';\n",
              "\n",
              "        async function convertToInteractive(key) {\n",
              "          const element = document.querySelector('#df-b92d369e-3a58-478b-82cb-427e1b74204f');\n",
              "          const dataTable =\n",
              "            await google.colab.kernel.invokeFunction('convertToInteractive',\n",
              "                                                     [key], {});\n",
              "          if (!dataTable) return;\n",
              "\n",
              "          const docLinkHtml = 'Like what you see? Visit the ' +\n",
              "            '<a target=\"_blank\" href=https://colab.research.google.com/notebooks/data_table.ipynb>data table notebook</a>'\n",
              "            + ' to learn more about interactive tables.';\n",
              "          element.innerHTML = '';\n",
              "          dataTable['output_type'] = 'display_data';\n",
              "          await google.colab.output.renderOutput(dataTable, element);\n",
              "          const docLink = document.createElement('div');\n",
              "          docLink.innerHTML = docLinkHtml;\n",
              "          element.appendChild(docLink);\n",
              "        }\n",
              "      </script>\n",
              "    </div>\n",
              "  </div>\n",
              "  "
            ]
          },
          "metadata": {},
          "execution_count": 32
        }
      ],
      "source": [
        "df.head()"
      ]
    },
    {
      "cell_type": "markdown",
      "metadata": {
        "id": "kWhIeE1xX0oG"
      },
      "source": [
        "### Convert market cap information to numerical format"
      ]
    },
    {
      "cell_type": "markdown",
      "metadata": {
        "id": "Jw-20CSGX0oG"
      },
      "source": [
        "Market cap is provided as strings so we need to convert it to numerical format."
      ]
    },
    {
      "cell_type": "code",
      "execution_count": 33,
      "metadata": {
        "id": "EGILXxZgX0oH"
      },
      "outputs": [],
      "source": [
        "mcap = df[['market cap']].dropna() # 띄어쓰기됨\n",
        "# mcap['suffix'] = mcap.marketcap.str[-1] # 사라짐\n",
        "# mcap.suffix.value_counts()"
      ]
    },
    {
      "cell_type": "markdown",
      "metadata": {
        "id": "tqTFRtJNX0oI"
      },
      "source": [
        "Keep only values with value units:"
      ]
    },
    {
      "cell_type": "code",
      "execution_count": null,
      "metadata": {
        "id": "jtU2bzVoX0oI",
        "outputId": "25e45138-d2af-40b9-82da-14ab03a2fac2"
      },
      "outputs": [
        {
          "name": "stdout",
          "output_type": "stream",
          "text": [
            "<class 'pandas.core.frame.DataFrame'>\n",
            "Index: 5383 entries, TXG to ZYME\n",
            "Data columns (total 2 columns):\n",
            " #   Column     Non-Null Count  Dtype  \n",
            "---  ------     --------------  -----  \n",
            " 0   marketcap  5383 non-null   float64\n",
            " 1   suffix     5383 non-null   object \n",
            "dtypes: float64(1), object(1)\n",
            "memory usage: 286.2+ KB\n"
          ]
        }
      ],
      "source": [
        "'''mcap = mcap[mcap.suffix.str.endswith(('B', 'M'))]\n",
        "mcap.marketcap = pd.to_numeric(mcap.marketcap.str[1:-1])\n",
        "mcaps = {'M': 1e6, 'B': 1e9}\n",
        "for symbol, factor in mcaps.items():\n",
        "    mcap.loc[mcap.suffix == symbol, 'marketcap'] *= factor\n",
        "mcap.info()'''"
      ]
    },
    {
      "cell_type": "code",
      "execution_count": null,
      "metadata": {
        "id": "1EWe_NQeX0oJ",
        "outputId": "ba701f35-9c9d-4f20-e3bd-959655395c22"
      },
      "outputs": [
        {
          "data": {
            "text/plain": [
              "count                5,383\n",
              "mean         8,058,312,556\n",
              "std         46,063,490,648\n",
              "min              1,680,000\n",
              "10%             41,436,000\n",
              "20%            104,184,000\n",
              "30%            192,888,000\n",
              "40%            335,156,000\n",
              "50%            587,760,000\n",
              "60%          1,120,000,000\n",
              "70%          2,140,000,000\n",
              "80%          4,480,000,000\n",
              "90%         13,602,000,000\n",
              "max      1,486,630,000,000\n",
              "Name: marketcap, dtype: object"
            ]
          },
          "execution_count": 16,
          "metadata": {},
          "output_type": "execute_result"
        }
      ],
      "source": [
        "'''df['marketcap'] = mcap.marketcap\n",
        "df.marketcap.describe(percentiles=np.arange(.1, 1, .1).round(1)).apply(lambda x: f'{int(x):,d}')'''"
      ]
    },
    {
      "cell_type": "markdown",
      "metadata": {
        "id": "2sjnpKgZX0oL"
      },
      "source": [
        "### Store result"
      ]
    },
    {
      "cell_type": "markdown",
      "metadata": {
        "id": "BwHlBMt_X0oZ"
      },
      "source": [
        "The file `us_equities_meta_data.csv` contains a version of the data used for many of the examples. Load using\n",
        "```\n",
        "df = pd.read_csv('us_equities_meta_data.csv')\n",
        "```\n",
        "and proceed to store in HDF5 format."
      ]
    },
    {
      "cell_type": "code",
      "execution_count": 35,
      "metadata": {
        "ExecuteTime": {
          "end_time": "2020-06-16T21:35:00.910722Z",
          "start_time": "2020-06-16T21:35:00.862761Z"
        },
        "colab": {
          "base_uri": "https://localhost:8080/"
        },
        "id": "XA5uvaF0X0oa",
        "outputId": "2049d8ec-92d1-4362-8133-873c12dcc08c"
      },
      "outputs": [
        {
          "output_type": "stream",
          "name": "stdout",
          "text": [
            "<class 'pandas.core.frame.DataFrame'>\n",
            "RangeIndex: 6834 entries, 0 to 6833\n",
            "Data columns (total 7 columns):\n",
            " #   Column     Non-Null Count  Dtype  \n",
            "---  ------     --------------  -----  \n",
            " 0   ticker     6834 non-null   object \n",
            " 1   name       6834 non-null   object \n",
            " 2   lastsale   6718 non-null   float64\n",
            " 3   marketcap  5766 non-null   float64\n",
            " 4   ipoyear    3038 non-null   float64\n",
            " 5   sector     5288 non-null   object \n",
            " 6   industry   5288 non-null   object \n",
            "dtypes: float64(3), object(4)\n",
            "memory usage: 373.9+ KB\n"
          ]
        }
      ],
      "source": [
        "df = pd.read_csv('https://raw.githubusercontent.com/FE-Quant-Study/Machine-Learning-for-Algorithmic-Trading-Second-Edition/master/data/us_equities_meta_data.csv')\n",
        "df.info()"
      ]
    },
    {
      "cell_type": "code",
      "execution_count": 36,
      "metadata": {
        "ExecuteTime": {
          "end_time": "2020-06-16T21:35:22.388412Z",
          "start_time": "2020-06-16T21:35:22.356828Z"
        },
        "id": "2yOH2Cg9X0ob"
      },
      "outputs": [],
      "source": [
        "with pd.HDFStore(DATA_STORE) as store:\n",
        "    store.put('us_equities/stocks', df.set_index('ticker'))"
      ]
    },
    {
      "cell_type": "markdown",
      "metadata": {
        "id": "MBEYL7bjX0oc"
      },
      "source": [
        "## MNIST Data"
      ]
    },
    {
      "cell_type": "code",
      "execution_count": 37,
      "metadata": {
        "ExecuteTime": {
          "end_time": "2020-06-18T17:19:11.720146Z",
          "start_time": "2020-06-18T17:18:53.948739Z"
        },
        "id": "FhyKHvE7X0od"
      },
      "outputs": [],
      "source": [
        "mnist = fetch_openml('mnist_784', version=1)"
      ]
    },
    {
      "cell_type": "code",
      "execution_count": 38,
      "metadata": {
        "ExecuteTime": {
          "end_time": "2020-06-18T17:19:11.723222Z",
          "start_time": "2020-06-18T17:19:11.721079Z"
        },
        "colab": {
          "base_uri": "https://localhost:8080/"
        },
        "id": "WW3XHMjfX0od",
        "outputId": "8d3f9bef-fa14-4f43-fd1d-65415093e265"
      },
      "outputs": [
        {
          "output_type": "stream",
          "name": "stdout",
          "text": [
            "**Author**: Yann LeCun, Corinna Cortes, Christopher J.C. Burges  \n",
            "**Source**: [MNIST Website](http://yann.lecun.com/exdb/mnist/) - Date unknown  \n",
            "**Please cite**:  \n",
            "\n",
            "The MNIST database of handwritten digits with 784 features, raw data available at: http://yann.lecun.com/exdb/mnist/. It can be split in a training set of the first 60,000 examples, and a test set of 10,000 examples  \n",
            "\n",
            "It is a subset of a larger set available from NIST. The digits have been size-normalized and centered in a fixed-size image. It is a good database for people who want to try learning techniques and pattern recognition methods on real-world data while spending minimal efforts on preprocessing and formatting. The original black and white (bilevel) images from NIST were size normalized to fit in a 20x20 pixel box while preserving their aspect ratio. The resulting images contain grey levels as a result of the anti-aliasing technique used by the normalization algorithm. the images were centered in a 28x28 image by computing the center of mass of the pixels, and translating the image so as to position this point at the center of the 28x28 field.  \n",
            "\n",
            "With some classification methods (particularly template-based methods, such as SVM and K-nearest neighbors), the error rate improves when the digits are centered by bounding box rather than center of mass. If you do this kind of pre-processing, you should report it in your publications. The MNIST database was constructed from NIST's NIST originally designated SD-3 as their training set and SD-1 as their test set. However, SD-3 is much cleaner and easier to recognize than SD-1. The reason for this can be found on the fact that SD-3 was collected among Census Bureau employees, while SD-1 was collected among high-school students. Drawing sensible conclusions from learning experiments requires that the result be independent of the choice of training set and test among the complete set of samples. Therefore it was necessary to build a new database by mixing NIST's datasets.  \n",
            "\n",
            "The MNIST training set is composed of 30,000 patterns from SD-3 and 30,000 patterns from SD-1. Our test set was composed of 5,000 patterns from SD-3 and 5,000 patterns from SD-1. The 60,000 pattern training set contained examples from approximately 250 writers. We made sure that the sets of writers of the training set and test set were disjoint. SD-1 contains 58,527 digit images written by 500 different writers. In contrast to SD-3, where blocks of data from each writer appeared in sequence, the data in SD-1 is scrambled. Writer identities for SD-1 is available and we used this information to unscramble the writers. We then split SD-1 in two: characters written by the first 250 writers went into our new training set. The remaining 250 writers were placed in our test set. Thus we had two sets with nearly 30,000 examples each. The new training set was completed with enough examples from SD-3, starting at pattern # 0, to make a full set of 60,000 training patterns. Similarly, the new test set was completed with SD-3 examples starting at pattern # 35,000 to make a full set with 60,000 test patterns. Only a subset of 10,000 test images (5,000 from SD-1 and 5,000 from SD-3) is available on this site. The full 60,000 sample training set is available.\n",
            "\n",
            "Downloaded from openml.org.\n"
          ]
        }
      ],
      "source": [
        "print(mnist.DESCR)"
      ]
    },
    {
      "cell_type": "code",
      "execution_count": 39,
      "metadata": {
        "ExecuteTime": {
          "end_time": "2020-06-18T17:19:21.823457Z",
          "start_time": "2020-06-18T17:19:21.815369Z"
        },
        "colab": {
          "base_uri": "https://localhost:8080/"
        },
        "id": "vYPT1KJPX0oe",
        "outputId": "ba0248c5-07ab-4928-a5af-1c940f495e73"
      },
      "outputs": [
        {
          "output_type": "execute_result",
          "data": {
            "text/plain": [
              "dict_keys(['data', 'target', 'frame', 'categories', 'feature_names', 'target_names', 'DESCR', 'details', 'url'])"
            ]
          },
          "metadata": {},
          "execution_count": 39
        }
      ],
      "source": [
        "mnist.keys()"
      ]
    },
    {
      "cell_type": "code",
      "execution_count": 40,
      "metadata": {
        "ExecuteTime": {
          "end_time": "2020-06-18T17:19:59.989715Z",
          "start_time": "2020-06-18T17:19:59.983320Z"
        },
        "id": "VL1Sad7-X0of"
      },
      "outputs": [],
      "source": [
        "mnist_path = Path('mnist')\n",
        "if not mnist_path.exists():\n",
        "    mnist_path.mkdir()"
      ]
    },
    {
      "cell_type": "code",
      "execution_count": 41,
      "metadata": {
        "ExecuteTime": {
          "end_time": "2020-06-18T17:20:25.489271Z",
          "start_time": "2020-06-18T17:20:25.418621Z"
        },
        "id": "XyqNUx2VX0of"
      },
      "outputs": [],
      "source": [
        "np.save(mnist_path / 'data', mnist.data.astype(np.uint8))\n",
        "np.save(mnist_path / 'labels', mnist.target.astype(np.uint8))"
      ]
    },
    {
      "cell_type": "markdown",
      "metadata": {
        "id": "7_aIYW-GX0og"
      },
      "source": [
        "## Fashion MNIST Image Data"
      ]
    },
    {
      "cell_type": "markdown",
      "metadata": {
        "id": "BlqfyDmTX0og"
      },
      "source": [
        "We will use the Fashion MNIST image data created by [Zalando Research](https://github.com/zalandoresearch/fashion-mnist) for some demonstrations."
      ]
    },
    {
      "cell_type": "code",
      "execution_count": 42,
      "metadata": {
        "ExecuteTime": {
          "end_time": "2020-06-18T14:42:51.598398Z",
          "start_time": "2020-06-18T14:42:38.233167Z"
        },
        "id": "gFXUhDvZX0og"
      },
      "outputs": [],
      "source": [
        "fashion_mnist = fetch_openml(name='Fashion-MNIST')"
      ]
    },
    {
      "cell_type": "code",
      "execution_count": 43,
      "metadata": {
        "ExecuteTime": {
          "end_time": "2020-06-18T14:42:51.604464Z",
          "start_time": "2020-06-18T14:42:51.599373Z"
        },
        "colab": {
          "base_uri": "https://localhost:8080/"
        },
        "id": "aJNUfHsNX0oh",
        "outputId": "4708ae24-4517-473b-c865-3949590ae416"
      },
      "outputs": [
        {
          "output_type": "stream",
          "name": "stdout",
          "text": [
            "**Author**: Han Xiao, Kashif Rasul, Roland Vollgraf  \n",
            "**Source**: [Zalando Research](https://github.com/zalandoresearch/fashion-mnist)  \n",
            "**Please cite**: Han Xiao and Kashif Rasul and Roland Vollgraf, Fashion-MNIST: a Novel Image Dataset for Benchmarking Machine Learning Algorithms, arXiv, cs.LG/1708.07747  \n",
            "\n",
            "Fashion-MNIST is a dataset of Zalando's article images, consisting of a training set of 60,000 examples and a test set of 10,000 examples. Each example is a 28x28 grayscale image, associated with a label from 10 classes. Fashion-MNIST is intended to serve as a direct drop-in replacement for the original MNIST dataset for benchmarking machine learning algorithms. It shares the same image size and structure of training and testing splits. \n",
            "\n",
            "Raw data available at: https://github.com/zalandoresearch/fashion-mnist\n",
            "\n",
            "### Target classes\n",
            "Each training and test example is assigned to one of the following labels:\n",
            "Label  Description  \n",
            "0  T-shirt/top  \n",
            "1  Trouser  \n",
            "2  Pullover  \n",
            "3  Dress  \n",
            "4  Coat  \n",
            "5  Sandal  \n",
            "6  Shirt  \n",
            "7  Sneaker  \n",
            "8  Bag  \n",
            "9  Ankle boot\n",
            "\n",
            "Downloaded from openml.org.\n"
          ]
        }
      ],
      "source": [
        "print(fashion_mnist.DESCR)"
      ]
    },
    {
      "cell_type": "code",
      "execution_count": 44,
      "metadata": {
        "ExecuteTime": {
          "end_time": "2020-06-18T15:14:10.969125Z",
          "start_time": "2020-06-18T15:14:10.960466Z"
        },
        "id": "GxQZ_kn8X0oh"
      },
      "outputs": [],
      "source": [
        "label_dict = {0: 'T-shirt/top',\n",
        "              1: 'Trouser',\n",
        "              2: 'Pullover',\n",
        "              3: 'Dress',\n",
        "              4: 'Coat',\n",
        "              5: 'Sandal',\n",
        "              6: 'Shirt',\n",
        "              7: 'Sneaker',\n",
        "              8: 'Bag',\n",
        "              9: 'Ankle boot'}"
      ]
    },
    {
      "cell_type": "code",
      "execution_count": 45,
      "metadata": {
        "ExecuteTime": {
          "end_time": "2020-06-18T15:14:11.293906Z",
          "start_time": "2020-06-18T15:14:11.290279Z"
        },
        "id": "0pu6UquXX0oi"
      },
      "outputs": [],
      "source": [
        "fashion_path = Path('fashion_mnist')\n",
        "if not fashion_path.exists():\n",
        "    fashion_path.mkdir()"
      ]
    },
    {
      "cell_type": "code",
      "execution_count": 46,
      "metadata": {
        "ExecuteTime": {
          "end_time": "2020-06-18T15:14:11.941092Z",
          "start_time": "2020-06-18T15:14:11.926416Z"
        },
        "id": "eRLgcr38X0oj"
      },
      "outputs": [],
      "source": [
        "pd.Series(label_dict).to_csv(fashion_path / 'label_dict.csv', index=False, header=None)"
      ]
    },
    {
      "cell_type": "code",
      "execution_count": 47,
      "metadata": {
        "ExecuteTime": {
          "end_time": "2020-06-18T14:45:50.376114Z",
          "start_time": "2020-06-18T14:45:50.301028Z"
        },
        "id": "dALGdQR9X0oj"
      },
      "outputs": [],
      "source": [
        "np.save(fashion_path / 'data', fashion_mnist.data.astype(np.uint8))\n",
        "np.save(fashion_path / 'labels', fashion_mnist.target.astype(np.uint8))"
      ]
    },
    {
      "cell_type": "code",
      "source": [
        "!cp assets.h5 /content/drive/MyDrive/스터디/금융공학_퀀트_스터디/data/assets.h5"
      ],
      "metadata": {
        "id": "1JLa1HmPh9ao"
      },
      "execution_count": 48,
      "outputs": []
    },
    {
      "cell_type": "markdown",
      "metadata": {
        "id": "NqVxm4oeX0ok"
      },
      "source": [
        "## Bond Price Indexes"
      ]
    },
    {
      "cell_type": "markdown",
      "metadata": {
        "id": "w4wrfGN0X0ok"
      },
      "source": [
        "The following code downloads several bond indexes from the Federal Reserve Economic Data service ([FRED](https://fred.stlouisfed.org/))"
      ]
    },
    {
      "cell_type": "markdown",
      "metadata": {
        "id": "17_sQUZtX0ol"
      },
      "source": [
        "> Warning: Unfortunately, most of this data has been [recently removed](https://news.research.stlouisfed.org/2022/01/ice-benchmark-administration-ltd-iba-data-to-be-removed-from-fred/) from the FRED service. It is not important for the examples in the book, so you can just ignore this."
      ]
    },
    {
      "cell_type": "code",
      "execution_count": null,
      "metadata": {
        "id": "7k820Z-8X0om"
      },
      "outputs": [],
      "source": [
        "securities = {'BAMLCC0A0CMTRIV'   : 'US Corp Master TRI',\n",
        "              'BAMLHYH0A0HYM2TRIV': 'US High Yield TRI',\n",
        "              'BAMLEMCBPITRIV'    : 'Emerging Markets Corporate Plus TRI',\n",
        "              'GOLDAMGBD228NLBM'  : 'Gold (London, USD)',\n",
        "              'DGS10'             : '10-Year Treasury CMR',\n",
        "              }\n",
        "\n",
        "df = web.DataReader(name=list(securities.keys()), data_source='fred', start=2000)\n",
        "df = df.rename(columns=securities).dropna(how='all').resample('B').mean()\n",
        "\n",
        "with pd.HDFStore(DATA_STORE) as store:\n",
        "    store.put('fred/assets', df)"
      ]
    }
  ],
  "metadata": {
    "kernelspec": {
      "display_name": "Python 3 (ipykernel)",
      "language": "python",
      "name": "python3"
    },
    "language_info": {
      "codemirror_mode": {
        "name": "ipython",
        "version": 3
      },
      "file_extension": ".py",
      "mimetype": "text/x-python",
      "name": "python",
      "nbconvert_exporter": "python",
      "pygments_lexer": "ipython3",
      "version": "3.8.12"
    },
    "toc": {
      "base_numbering": 1,
      "nav_menu": {},
      "number_sections": true,
      "sideBar": true,
      "skip_h1_title": true,
      "title_cell": "Table of Contents",
      "title_sidebar": "Contents",
      "toc_cell": false,
      "toc_position": {},
      "toc_section_display": true,
      "toc_window_display": true
    },
    "colab": {
      "provenance": [],
      "collapsed_sections": [
        "NqVxm4oeX0ok"
      ]
    }
  },
  "nbformat": 4,
  "nbformat_minor": 0
}